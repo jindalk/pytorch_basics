{
  "nbformat": 4,
  "nbformat_minor": 0,
  "metadata": {
    "colab": {
      "provenance": [],
      "authorship_tag": "ABX9TyMVFSbcw32t2oqx3E3Uf/Cv",
      "include_colab_link": true
    },
    "kernelspec": {
      "name": "python3",
      "display_name": "Python 3"
    },
    "language_info": {
      "name": "python"
    }
  },
  "cells": [
    {
      "cell_type": "markdown",
      "metadata": {
        "id": "view-in-github",
        "colab_type": "text"
      },
      "source": [
        "<a href=\"https://colab.research.google.com/github/jindalk/pytorch_projects/blob/main/02_pbmc_3k_classifier.ipynb\" target=\"_parent\"><img src=\"https://colab.research.google.com/assets/colab-badge.svg\" alt=\"Open In Colab\"/></a>"
      ]
    },
    {
      "cell_type": "markdown",
      "source": [
        "# Predicting adaptive vs immune cell types from scRNA-seq data - Human PBMCs"
      ],
      "metadata": {
        "id": "H6Lv0cocpSos"
      }
    },
    {
      "cell_type": "code",
      "source": [
        "import pandas as pd\n",
        "import numpy as np\n",
        "\n",
        "import matplotlib.pyplot as plt\n",
        "import seaborn as sns\n",
        "\n",
        "import torch\n",
        "from torch import nn\n",
        "import torch.nn.functional as F\n",
        "import torch.optim as optim\n",
        "from torch.utils.data import DataLoader, TensorDataset\n",
        "import torch.nn.utils as utils\n",
        "\n",
        "from sklearn.model_selection import train_test_split"
      ],
      "metadata": {
        "id": "8Y1t9QwU2Con"
      },
      "execution_count": null,
      "outputs": []
    },
    {
      "cell_type": "code",
      "source": [
        "from google.colab import drive\n",
        "drive.mount('/content/drive')"
      ],
      "metadata": {
        "colab": {
          "base_uri": "https://localhost:8080/"
        },
        "id": "uZa2hQYL-6Jk",
        "outputId": "f65d36e1-cbe6-4c99-ede7-fa886fae3b22"
      },
      "execution_count": null,
      "outputs": [
        {
          "output_type": "stream",
          "name": "stdout",
          "text": [
            "Mounted at /content/drive\n"
          ]
        }
      ]
    },
    {
      "cell_type": "code",
      "source": [
        "gex = pd.read_csv('/content/drive/MyDrive/single_cell/data/pbmc_3k_proc.csv', index_col=0)\n",
        "meta = pd.read_csv('/content/drive/MyDrive/single_cell/data/pbmc_3k_proc_meta.csv', index_col=0)"
      ],
      "metadata": {
        "id": "0ZsOY0L6_OTE"
      },
      "execution_count": null,
      "outputs": []
    },
    {
      "cell_type": "code",
      "source": [
        "gex.shape"
      ],
      "metadata": {
        "colab": {
          "base_uri": "https://localhost:8080/"
        },
        "id": "kd-2IZe0A5RH",
        "outputId": "0a328fc9-a060-48e7-8537-f3fda3b22134"
      },
      "execution_count": null,
      "outputs": [
        {
          "output_type": "execute_result",
          "data": {
            "text/plain": [
              "(2638, 1838)"
            ]
          },
          "metadata": {},
          "execution_count": 5
        }
      ]
    },
    {
      "cell_type": "code",
      "source": [
        "gex = gex.astype(np.float32)"
      ],
      "metadata": {
        "id": "WFksAikBPXW8"
      },
      "execution_count": null,
      "outputs": []
    },
    {
      "cell_type": "code",
      "source": [
        "assert((gex.index == meta.index).all())"
      ],
      "metadata": {
        "id": "MjshnVsJFEfC"
      },
      "execution_count": null,
      "outputs": []
    },
    {
      "cell_type": "code",
      "source": [
        "class Net(nn.Module):\n",
        "  def __init__(self):\n",
        "    super(Net, self).__init__()\n",
        "    self.fc1 = nn.Linear(1838, 50)\n",
        "    self.fc2 = nn.Linear(50,10)\n",
        "    self.fc3 = nn.Linear(10,1)\n",
        "\n",
        "  def forward(self, input):\n",
        "    f1 = F.relu(self.fc1(input))\n",
        "    f2 = F.relu(self.fc2(f1))\n",
        "    f3 = F.sigmoid(self.fc3(f2))\n",
        "    return f3"
      ],
      "metadata": {
        "id": "A-kfP1RgAgP2"
      },
      "execution_count": null,
      "outputs": []
    },
    {
      "cell_type": "code",
      "source": [
        "net = Net()\n",
        "print(net)"
      ],
      "metadata": {
        "colab": {
          "base_uri": "https://localhost:8080/"
        },
        "id": "69izaUaK_xY9",
        "outputId": "3b802f71-8ae3-47fc-c7ac-3794324fa525"
      },
      "execution_count": null,
      "outputs": [
        {
          "output_type": "stream",
          "name": "stdout",
          "text": [
            "Net(\n",
            "  (fc1): Linear(in_features=1838, out_features=50, bias=True)\n",
            "  (fc2): Linear(in_features=50, out_features=10, bias=True)\n",
            "  (fc3): Linear(in_features=10, out_features=1, bias=True)\n",
            ")\n"
          ]
        }
      ]
    },
    {
      "cell_type": "code",
      "source": [
        "params = list(net.parameters())\n",
        "print(len(params))\n",
        "print(params[0].size())"
      ],
      "metadata": {
        "colab": {
          "base_uri": "https://localhost:8080/"
        },
        "id": "oI7_2xjmAFRx",
        "outputId": "c8b76d37-4e27-40b8-fe8f-d9aa694558bf"
      },
      "execution_count": null,
      "outputs": [
        {
          "output_type": "stream",
          "name": "stdout",
          "text": [
            "6\n",
            "torch.Size([50, 1838])\n"
          ]
        }
      ]
    },
    {
      "cell_type": "code",
      "source": [
        "loss_fn = nn.BCELoss()\n",
        "optimizer = optim.Adam(net.parameters())"
      ],
      "metadata": {
        "id": "IHUrARIuEwMD"
      },
      "execution_count": null,
      "outputs": []
    },
    {
      "cell_type": "code",
      "source": [
        "meta['immune'].value_counts()"
      ],
      "metadata": {
        "colab": {
          "base_uri": "https://localhost:8080/",
          "height": 178
        },
        "id": "b3fsuwZ1F6h9",
        "outputId": "66b9749f-0b60-4e6d-a144-76266f1f7669"
      },
      "execution_count": null,
      "outputs": [
        {
          "output_type": "execute_result",
          "data": {
            "text/plain": [
              "immune\n",
              "adaptive    1802\n",
              "innate       836\n",
              "Name: count, dtype: int64"
            ],
            "text/html": [
              "<div>\n",
              "<style scoped>\n",
              "    .dataframe tbody tr th:only-of-type {\n",
              "        vertical-align: middle;\n",
              "    }\n",
              "\n",
              "    .dataframe tbody tr th {\n",
              "        vertical-align: top;\n",
              "    }\n",
              "\n",
              "    .dataframe thead th {\n",
              "        text-align: right;\n",
              "    }\n",
              "</style>\n",
              "<table border=\"1\" class=\"dataframe\">\n",
              "  <thead>\n",
              "    <tr style=\"text-align: right;\">\n",
              "      <th></th>\n",
              "      <th>count</th>\n",
              "    </tr>\n",
              "    <tr>\n",
              "      <th>immune</th>\n",
              "      <th></th>\n",
              "    </tr>\n",
              "  </thead>\n",
              "  <tbody>\n",
              "    <tr>\n",
              "      <th>adaptive</th>\n",
              "      <td>1802</td>\n",
              "    </tr>\n",
              "    <tr>\n",
              "      <th>innate</th>\n",
              "      <td>836</td>\n",
              "    </tr>\n",
              "  </tbody>\n",
              "</table>\n",
              "</div><br><label><b>dtype:</b> int64</label>"
            ]
          },
          "metadata": {},
          "execution_count": 12
        }
      ]
    },
    {
      "cell_type": "code",
      "source": [
        "labels = meta['immune'].apply(lambda x: 0. if x=='adaptive' else 1.).values\n",
        "labels = torch.from_numpy(labels)\n",
        "labels = labels.type(torch.float32)"
      ],
      "metadata": {
        "id": "Bf1gsj_aE4iG"
      },
      "execution_count": null,
      "outputs": []
    },
    {
      "cell_type": "code",
      "source": [
        "data = torch.from_numpy(gex.values)"
      ],
      "metadata": {
        "id": "C9TOTFCgFsXp"
      },
      "execution_count": null,
      "outputs": []
    },
    {
      "cell_type": "code",
      "source": [
        "train_data, test_data, train_labels, test_labels = train_test_split(data, labels, test_size = 0.2,\n",
        "                                                                    random_state = 42, stratify = labels)\n",
        "\n",
        "train_data, val_data, train_labels, val_labels = train_test_split(train_data, train_labels, test_size = 0.1,\n",
        "                                                                    random_state = 42, stratify = train_labels)"
      ],
      "metadata": {
        "id": "8noMPRqtH-Je"
      },
      "execution_count": null,
      "outputs": []
    },
    {
      "cell_type": "code",
      "source": [
        "len(train_labels), len(val_labels), len(test_labels)"
      ],
      "metadata": {
        "colab": {
          "base_uri": "https://localhost:8080/"
        },
        "id": "CAQ2ZiT2L1Rm",
        "outputId": "bb882cbf-ae49-4ad0-d9b4-2837adcf025c"
      },
      "execution_count": null,
      "outputs": [
        {
          "output_type": "execute_result",
          "data": {
            "text/plain": [
              "(1899, 211, 528)"
            ]
          },
          "metadata": {},
          "execution_count": 16
        }
      ]
    },
    {
      "cell_type": "code",
      "source": [
        "train_dataset = TensorDataset(train_data, train_labels)\n",
        "val_dataset = TensorDataset(val_data, val_labels)\n",
        "test_dataset = TensorDataset(test_data, test_labels)\n",
        "\n",
        "train_loader = DataLoader(train_dataset, batch_size = 32, shuffle=True)\n",
        "val_loader = DataLoader(val_dataset, batch_size = 32, shuffle=True)\n",
        "test_loader = DataLoader(test_dataset, batch_size = 32, shuffle=False)"
      ],
      "metadata": {
        "id": "Td6qc4beGCtb"
      },
      "execution_count": null,
      "outputs": []
    },
    {
      "cell_type": "code",
      "source": [
        "epochs = 100"
      ],
      "metadata": {
        "id": "WYrCcYBkJnRP"
      },
      "execution_count": null,
      "outputs": []
    },
    {
      "cell_type": "code",
      "source": [
        "train_loss_list = []\n",
        "val_loss_list = []\n",
        "\n",
        "for epoch in range(epochs):\n",
        "  print_bool = True if epoch%30==0 else False\n",
        "  net.train()\n",
        "  for train_data_curr, train_label_curr in train_loader:\n",
        "    optimizer.zero_grad()\n",
        "\n",
        "    #fwd\n",
        "    pred = net(train_data_curr).squeeze()\n",
        "\n",
        "    #loss\n",
        "    train_loss = loss_fn(pred, train_label_curr)\n",
        "    train_loss_list.append(train_loss.item())\n",
        "\n",
        "    #bwd\n",
        "    train_loss.backward()\n",
        "\n",
        "    #update weight\n",
        "    optimizer.step()\n",
        "\n",
        "    #validation loop\n",
        "    net.eval()\n",
        "    val_loss = 0\n",
        "    with torch.no_grad():\n",
        "      for val_data_curr, val_label_curr in val_loader:\n",
        "        val_pred = net(val_data_curr).squeeze()\n",
        "        val_loss += loss_fn(val_pred, val_label_curr).item()\n",
        "    if(print_bool):\n",
        "      print(f\"Epoch {epoch+1}, Validation Loss: {val_loss / len(val_loader):.4f}\")\n",
        "    val_loss_list.append(val_loss / len(val_loader))\n",
        "\n",
        "\n",
        "#test\n",
        "net.eval()\n",
        "test_loss = 0\n",
        "with torch.no_grad():\n",
        "  for test_data_curr, test_label_curr in test_loader:\n",
        "    test_pred = net(test_data_curr).squeeze()\n",
        "    test_loss += loss_fn(test_pred, test_label_curr).item()\n",
        "print(f\"Test Loss: {test_loss / len(test_loader):.4f}\")"
      ],
      "metadata": {
        "colab": {
          "base_uri": "https://localhost:8080/"
        },
        "collapsed": true,
        "id": "SXJne9brJs6Y",
        "outputId": "4dfb6bb8-4709-4e3d-e364-3e7e16c44e46"
      },
      "execution_count": null,
      "outputs": [
        {
          "output_type": "stream",
          "name": "stdout",
          "text": [
            "Epoch 1, Validation Loss: 0.0924\n",
            "Epoch 1, Validation Loss: 0.0924\n",
            "Epoch 1, Validation Loss: 0.0924\n",
            "Epoch 1, Validation Loss: 0.0924\n",
            "Epoch 1, Validation Loss: 0.0924\n",
            "Epoch 1, Validation Loss: 0.0924\n",
            "Epoch 1, Validation Loss: 0.0924\n",
            "Epoch 1, Validation Loss: 0.0924\n",
            "Epoch 1, Validation Loss: 0.0924\n",
            "Epoch 1, Validation Loss: 0.0924\n",
            "Epoch 1, Validation Loss: 0.0957\n",
            "Epoch 1, Validation Loss: 0.0924\n",
            "Epoch 1, Validation Loss: 0.2187\n",
            "Epoch 1, Validation Loss: 0.0924\n",
            "Epoch 1, Validation Loss: 0.0924\n",
            "Epoch 1, Validation Loss: 0.0924\n",
            "Epoch 1, Validation Loss: 0.0925\n",
            "Epoch 1, Validation Loss: 0.0925\n",
            "Epoch 1, Validation Loss: 0.0999\n",
            "Epoch 1, Validation Loss: 0.0925\n",
            "Epoch 1, Validation Loss: 0.0925\n",
            "Epoch 1, Validation Loss: 0.0925\n",
            "Epoch 1, Validation Loss: 0.0925\n",
            "Epoch 1, Validation Loss: 0.0925\n",
            "Epoch 1, Validation Loss: 0.0925\n",
            "Epoch 1, Validation Loss: 0.0927\n",
            "Epoch 1, Validation Loss: 0.0925\n",
            "Epoch 1, Validation Loss: 0.0925\n",
            "Epoch 1, Validation Loss: 0.0925\n",
            "Epoch 1, Validation Loss: 0.0925\n",
            "Epoch 1, Validation Loss: 0.0925\n",
            "Epoch 1, Validation Loss: 0.0925\n",
            "Epoch 1, Validation Loss: 0.0991\n",
            "Epoch 1, Validation Loss: 0.0925\n",
            "Epoch 1, Validation Loss: 0.1685\n",
            "Epoch 1, Validation Loss: 0.0999\n",
            "Epoch 1, Validation Loss: 0.0925\n",
            "Epoch 1, Validation Loss: 0.1263\n",
            "Epoch 1, Validation Loss: 0.0925\n",
            "Epoch 1, Validation Loss: 0.0925\n",
            "Epoch 1, Validation Loss: 0.0925\n",
            "Epoch 1, Validation Loss: 0.0925\n",
            "Epoch 1, Validation Loss: 0.0925\n",
            "Epoch 1, Validation Loss: 0.0929\n",
            "Epoch 1, Validation Loss: 0.0925\n",
            "Epoch 1, Validation Loss: 0.0925\n",
            "Epoch 1, Validation Loss: 0.0925\n",
            "Epoch 1, Validation Loss: 0.0925\n",
            "Epoch 1, Validation Loss: 0.0999\n",
            "Epoch 1, Validation Loss: 0.0925\n",
            "Epoch 1, Validation Loss: 0.0933\n",
            "Epoch 1, Validation Loss: 0.0925\n",
            "Epoch 1, Validation Loss: 0.1686\n",
            "Epoch 1, Validation Loss: 0.0925\n",
            "Epoch 1, Validation Loss: 0.1047\n",
            "Epoch 1, Validation Loss: 0.0925\n",
            "Epoch 1, Validation Loss: 0.0928\n",
            "Epoch 1, Validation Loss: 0.0926\n",
            "Epoch 1, Validation Loss: 0.0926\n",
            "Epoch 1, Validation Loss: 0.0926\n",
            "Epoch 1, Validation Loss: 0.0926\n",
            "Epoch 1, Validation Loss: 0.0928\n",
            "Epoch 1, Validation Loss: 0.0928\n",
            "Epoch 1, Validation Loss: 0.0926\n",
            "Epoch 1, Validation Loss: 0.0926\n",
            "Epoch 1, Validation Loss: 0.0926\n",
            "Epoch 1, Validation Loss: 0.1248\n",
            "Epoch 1, Validation Loss: 0.1048\n",
            "Epoch 1, Validation Loss: 0.0926\n",
            "Epoch 1, Validation Loss: 0.0926\n",
            "Epoch 1, Validation Loss: 0.0929\n",
            "Epoch 1, Validation Loss: 0.0926\n",
            "Epoch 1, Validation Loss: 0.0926\n",
            "Epoch 1, Validation Loss: 0.0926\n",
            "Epoch 1, Validation Loss: 0.0926\n",
            "Epoch 1, Validation Loss: 0.0926\n",
            "Epoch 1, Validation Loss: 0.0927\n",
            "Epoch 1, Validation Loss: 0.0927\n",
            "Epoch 1, Validation Loss: 0.1249\n",
            "Epoch 1, Validation Loss: 0.0927\n",
            "Epoch 1, Validation Loss: 0.0943\n",
            "Epoch 1, Validation Loss: 0.0927\n",
            "Epoch 1, Validation Loss: 0.0927\n",
            "Epoch 1, Validation Loss: 0.0927\n",
            "Epoch 1, Validation Loss: 0.0927\n",
            "Epoch 1, Validation Loss: 0.0927\n",
            "Epoch 1, Validation Loss: 0.0927\n",
            "Epoch 1, Validation Loss: 0.0993\n",
            "Epoch 1, Validation Loss: 0.0927\n",
            "Epoch 1, Validation Loss: 0.0927\n",
            "Epoch 1, Validation Loss: 0.0927\n",
            "Epoch 1, Validation Loss: 0.0927\n",
            "Epoch 1, Validation Loss: 0.0927\n",
            "Epoch 1, Validation Loss: 0.0927\n",
            "Epoch 1, Validation Loss: 0.0927\n",
            "Epoch 1, Validation Loss: 0.0927\n",
            "Epoch 1, Validation Loss: 0.0928\n",
            "Epoch 1, Validation Loss: 0.0928\n",
            "Epoch 1, Validation Loss: 0.0928\n",
            "Epoch 1, Validation Loss: 0.0928\n",
            "Epoch 1, Validation Loss: 0.0928\n",
            "Epoch 1, Validation Loss: 0.0928\n",
            "Epoch 1, Validation Loss: 0.1689\n",
            "Epoch 1, Validation Loss: 0.0928\n",
            "Epoch 1, Validation Loss: 0.0928\n",
            "Epoch 1, Validation Loss: 0.0928\n",
            "Epoch 1, Validation Loss: 0.0928\n",
            "Epoch 1, Validation Loss: 0.0928\n",
            "Epoch 1, Validation Loss: 0.0928\n",
            "Epoch 1, Validation Loss: 0.0928\n",
            "Epoch 1, Validation Loss: 0.0928\n",
            "Epoch 1, Validation Loss: 0.0945\n",
            "Epoch 1, Validation Loss: 0.1050\n",
            "Epoch 1, Validation Loss: 0.0928\n",
            "Epoch 1, Validation Loss: 0.0928\n",
            "Epoch 1, Validation Loss: 0.0928\n",
            "Epoch 1, Validation Loss: 0.0928\n",
            "Epoch 1, Validation Loss: 0.0928\n",
            "Epoch 1, Validation Loss: 0.0928\n",
            "Epoch 31, Validation Loss: 0.1045\n",
            "Epoch 31, Validation Loss: 0.1045\n",
            "Epoch 31, Validation Loss: 0.1045\n",
            "Epoch 31, Validation Loss: 0.1045\n",
            "Epoch 31, Validation Loss: 0.1045\n",
            "Epoch 31, Validation Loss: 0.2507\n",
            "Epoch 31, Validation Loss: 0.1048\n",
            "Epoch 31, Validation Loss: 0.1045\n",
            "Epoch 31, Validation Loss: 0.1045\n",
            "Epoch 31, Validation Loss: 0.1045\n",
            "Epoch 31, Validation Loss: 0.1408\n",
            "Epoch 31, Validation Loss: 0.1045\n",
            "Epoch 31, Validation Loss: 0.1045\n",
            "Epoch 31, Validation Loss: 0.1045\n",
            "Epoch 31, Validation Loss: 0.1408\n",
            "Epoch 31, Validation Loss: 0.1046\n",
            "Epoch 31, Validation Loss: 0.1046\n",
            "Epoch 31, Validation Loss: 0.1049\n",
            "Epoch 31, Validation Loss: 0.1046\n",
            "Epoch 31, Validation Loss: 0.1046\n",
            "Epoch 31, Validation Loss: 0.1046\n",
            "Epoch 31, Validation Loss: 0.1046\n",
            "Epoch 31, Validation Loss: 0.1046\n",
            "Epoch 31, Validation Loss: 0.1046\n",
            "Epoch 31, Validation Loss: 0.1046\n",
            "Epoch 31, Validation Loss: 0.1046\n",
            "Epoch 31, Validation Loss: 0.1046\n",
            "Epoch 31, Validation Loss: 0.1046\n",
            "Epoch 31, Validation Loss: 0.2201\n",
            "Epoch 31, Validation Loss: 0.1046\n",
            "Epoch 31, Validation Loss: 0.1046\n",
            "Epoch 31, Validation Loss: 0.1046\n",
            "Epoch 31, Validation Loss: 0.1046\n",
            "Epoch 31, Validation Loss: 0.1046\n",
            "Epoch 31, Validation Loss: 0.1910\n",
            "Epoch 31, Validation Loss: 0.1046\n",
            "Epoch 31, Validation Loss: 0.1046\n",
            "Epoch 31, Validation Loss: 0.1052\n",
            "Epoch 31, Validation Loss: 0.1046\n",
            "Epoch 31, Validation Loss: 0.1046\n",
            "Epoch 31, Validation Loss: 0.1046\n",
            "Epoch 31, Validation Loss: 0.1046\n",
            "Epoch 31, Validation Loss: 0.1046\n",
            "Epoch 31, Validation Loss: 0.1046\n",
            "Epoch 31, Validation Loss: 0.1046\n",
            "Epoch 31, Validation Loss: 0.1046\n",
            "Epoch 31, Validation Loss: 0.1046\n",
            "Epoch 31, Validation Loss: 0.1046\n",
            "Epoch 31, Validation Loss: 0.1046\n",
            "Epoch 31, Validation Loss: 0.1046\n",
            "Epoch 31, Validation Loss: 0.1046\n",
            "Epoch 31, Validation Loss: 0.1046\n",
            "Epoch 31, Validation Loss: 0.1047\n",
            "Epoch 31, Validation Loss: 0.1047\n",
            "Epoch 31, Validation Loss: 0.1047\n",
            "Epoch 31, Validation Loss: 0.1047\n",
            "Epoch 31, Validation Loss: 0.1047\n",
            "Epoch 31, Validation Loss: 0.1047\n",
            "Epoch 31, Validation Loss: 0.1047\n",
            "Epoch 31, Validation Loss: 0.1060\n",
            "Epoch 31, Validation Loss: 0.1047\n",
            "Epoch 31, Validation Loss: 0.1047\n",
            "Epoch 31, Validation Loss: 0.1047\n",
            "Epoch 31, Validation Loss: 0.1048\n",
            "Epoch 31, Validation Loss: 0.1049\n",
            "Epoch 31, Validation Loss: 0.1047\n",
            "Epoch 31, Validation Loss: 0.1047\n",
            "Epoch 31, Validation Loss: 0.1047\n",
            "Epoch 31, Validation Loss: 0.1047\n",
            "Epoch 31, Validation Loss: 0.1047\n",
            "Epoch 31, Validation Loss: 0.1047\n",
            "Epoch 31, Validation Loss: 0.1047\n",
            "Epoch 31, Validation Loss: 0.1047\n",
            "Epoch 31, Validation Loss: 0.1047\n",
            "Epoch 31, Validation Loss: 0.1047\n",
            "Epoch 31, Validation Loss: 0.1047\n",
            "Epoch 31, Validation Loss: 0.1048\n",
            "Epoch 31, Validation Loss: 0.1048\n",
            "Epoch 31, Validation Loss: 0.1048\n",
            "Epoch 31, Validation Loss: 0.1048\n",
            "Epoch 31, Validation Loss: 0.1048\n",
            "Epoch 31, Validation Loss: 0.1048\n",
            "Epoch 31, Validation Loss: 0.1050\n",
            "Epoch 31, Validation Loss: 0.1048\n",
            "Epoch 31, Validation Loss: 0.2205\n",
            "Epoch 31, Validation Loss: 0.1048\n",
            "Epoch 31, Validation Loss: 0.1048\n",
            "Epoch 31, Validation Loss: 0.1048\n",
            "Epoch 31, Validation Loss: 0.1048\n",
            "Epoch 31, Validation Loss: 0.1048\n",
            "Epoch 31, Validation Loss: 0.1048\n",
            "Epoch 31, Validation Loss: 0.1050\n",
            "Epoch 31, Validation Loss: 0.1048\n",
            "Epoch 31, Validation Loss: 0.1048\n",
            "Epoch 31, Validation Loss: 0.1048\n",
            "Epoch 31, Validation Loss: 0.1048\n",
            "Epoch 31, Validation Loss: 0.1052\n",
            "Epoch 31, Validation Loss: 0.1048\n",
            "Epoch 31, Validation Loss: 0.1048\n",
            "Epoch 31, Validation Loss: 0.1048\n",
            "Epoch 31, Validation Loss: 0.1054\n",
            "Epoch 31, Validation Loss: 0.1049\n",
            "Epoch 31, Validation Loss: 0.1049\n",
            "Epoch 31, Validation Loss: 0.1049\n",
            "Epoch 31, Validation Loss: 0.1049\n",
            "Epoch 31, Validation Loss: 0.1049\n",
            "Epoch 31, Validation Loss: 0.1049\n",
            "Epoch 31, Validation Loss: 0.1049\n",
            "Epoch 31, Validation Loss: 0.1049\n",
            "Epoch 31, Validation Loss: 0.1049\n",
            "Epoch 31, Validation Loss: 0.1049\n",
            "Epoch 31, Validation Loss: 0.1049\n",
            "Epoch 31, Validation Loss: 0.1049\n",
            "Epoch 31, Validation Loss: 0.1049\n",
            "Epoch 31, Validation Loss: 0.1049\n",
            "Epoch 31, Validation Loss: 0.1062\n",
            "Epoch 31, Validation Loss: 0.1104\n",
            "Epoch 31, Validation Loss: 0.1049\n",
            "Epoch 31, Validation Loss: 0.1049\n",
            "Epoch 61, Validation Loss: 0.1162\n",
            "Epoch 61, Validation Loss: 0.1162\n",
            "Epoch 61, Validation Loss: 0.1322\n",
            "Epoch 61, Validation Loss: 0.1255\n",
            "Epoch 61, Validation Loss: 0.1162\n",
            "Epoch 61, Validation Loss: 0.1162\n",
            "Epoch 61, Validation Loss: 0.1162\n",
            "Epoch 61, Validation Loss: 0.1162\n",
            "Epoch 61, Validation Loss: 0.1162\n",
            "Epoch 61, Validation Loss: 0.1162\n",
            "Epoch 61, Validation Loss: 0.1162\n",
            "Epoch 61, Validation Loss: 0.1162\n",
            "Epoch 61, Validation Loss: 0.1253\n",
            "Epoch 61, Validation Loss: 0.2477\n",
            "Epoch 61, Validation Loss: 0.1162\n",
            "Epoch 61, Validation Loss: 0.1162\n",
            "Epoch 61, Validation Loss: 0.1162\n",
            "Epoch 61, Validation Loss: 0.1162\n",
            "Epoch 61, Validation Loss: 0.1162\n",
            "Epoch 61, Validation Loss: 0.1162\n",
            "Epoch 61, Validation Loss: 0.1162\n",
            "Epoch 61, Validation Loss: 0.1166\n",
            "Epoch 61, Validation Loss: 0.1163\n",
            "Epoch 61, Validation Loss: 0.1163\n",
            "Epoch 61, Validation Loss: 0.1163\n",
            "Epoch 61, Validation Loss: 0.1163\n",
            "Epoch 61, Validation Loss: 0.1163\n",
            "Epoch 61, Validation Loss: 0.1163\n",
            "Epoch 61, Validation Loss: 0.1163\n",
            "Epoch 61, Validation Loss: 0.1163\n",
            "Epoch 61, Validation Loss: 0.1163\n",
            "Epoch 61, Validation Loss: 0.1163\n",
            "Epoch 61, Validation Loss: 0.1163\n",
            "Epoch 61, Validation Loss: 0.1163\n",
            "Epoch 61, Validation Loss: 0.1163\n",
            "Epoch 61, Validation Loss: 0.1163\n",
            "Epoch 61, Validation Loss: 0.1163\n",
            "Epoch 61, Validation Loss: 0.1163\n",
            "Epoch 61, Validation Loss: 0.1163\n",
            "Epoch 61, Validation Loss: 0.1300\n",
            "Epoch 61, Validation Loss: 0.1163\n",
            "Epoch 61, Validation Loss: 0.1163\n",
            "Epoch 61, Validation Loss: 0.1163\n",
            "Epoch 61, Validation Loss: 0.1167\n",
            "Epoch 61, Validation Loss: 0.1165\n",
            "Epoch 61, Validation Loss: 0.1163\n",
            "Epoch 61, Validation Loss: 0.1163\n",
            "Epoch 61, Validation Loss: 0.1163\n",
            "Epoch 61, Validation Loss: 0.1163\n",
            "Epoch 61, Validation Loss: 0.1163\n",
            "Epoch 61, Validation Loss: 0.1164\n",
            "Epoch 61, Validation Loss: 0.1164\n",
            "Epoch 61, Validation Loss: 0.1164\n",
            "Epoch 61, Validation Loss: 0.1167\n",
            "Epoch 61, Validation Loss: 0.1174\n",
            "Epoch 61, Validation Loss: 0.1164\n",
            "Epoch 61, Validation Loss: 0.1164\n",
            "Epoch 61, Validation Loss: 0.2479\n",
            "Epoch 61, Validation Loss: 0.1165\n",
            "Epoch 61, Validation Loss: 0.1164\n",
            "Epoch 61, Validation Loss: 0.1164\n",
            "Epoch 61, Validation Loss: 0.1164\n",
            "Epoch 61, Validation Loss: 0.1164\n",
            "Epoch 61, Validation Loss: 0.1164\n",
            "Epoch 61, Validation Loss: 0.1164\n",
            "Epoch 61, Validation Loss: 0.2816\n",
            "Epoch 61, Validation Loss: 0.1165\n",
            "Epoch 61, Validation Loss: 0.1165\n",
            "Epoch 61, Validation Loss: 0.1165\n",
            "Epoch 61, Validation Loss: 0.1165\n",
            "Epoch 61, Validation Loss: 0.1165\n",
            "Epoch 61, Validation Loss: 0.2129\n",
            "Epoch 61, Validation Loss: 0.1165\n",
            "Epoch 61, Validation Loss: 0.1165\n",
            "Epoch 61, Validation Loss: 0.1165\n",
            "Epoch 61, Validation Loss: 0.1165\n",
            "Epoch 61, Validation Loss: 0.1165\n",
            "Epoch 61, Validation Loss: 0.1165\n",
            "Epoch 61, Validation Loss: 0.1165\n",
            "Epoch 61, Validation Loss: 0.1165\n",
            "Epoch 61, Validation Loss: 0.1165\n",
            "Epoch 61, Validation Loss: 0.1165\n",
            "Epoch 61, Validation Loss: 0.1165\n",
            "Epoch 61, Validation Loss: 0.1165\n",
            "Epoch 61, Validation Loss: 0.1165\n",
            "Epoch 61, Validation Loss: 0.1166\n",
            "Epoch 61, Validation Loss: 0.1166\n",
            "Epoch 61, Validation Loss: 0.1166\n",
            "Epoch 61, Validation Loss: 0.1166\n",
            "Epoch 61, Validation Loss: 0.1166\n",
            "Epoch 61, Validation Loss: 0.1166\n",
            "Epoch 61, Validation Loss: 0.2820\n",
            "Epoch 61, Validation Loss: 0.1166\n",
            "Epoch 61, Validation Loss: 0.1166\n",
            "Epoch 61, Validation Loss: 0.1166\n",
            "Epoch 61, Validation Loss: 0.1166\n",
            "Epoch 61, Validation Loss: 0.1166\n",
            "Epoch 61, Validation Loss: 0.1166\n",
            "Epoch 61, Validation Loss: 0.1166\n",
            "Epoch 61, Validation Loss: 0.1166\n",
            "Epoch 61, Validation Loss: 0.1166\n",
            "Epoch 61, Validation Loss: 0.1166\n",
            "Epoch 61, Validation Loss: 0.1177\n",
            "Epoch 61, Validation Loss: 0.1166\n",
            "Epoch 61, Validation Loss: 0.1168\n",
            "Epoch 61, Validation Loss: 0.1166\n",
            "Epoch 61, Validation Loss: 0.1166\n",
            "Epoch 61, Validation Loss: 0.1166\n",
            "Epoch 61, Validation Loss: 0.2820\n",
            "Epoch 61, Validation Loss: 0.1168\n",
            "Epoch 61, Validation Loss: 0.2820\n",
            "Epoch 61, Validation Loss: 0.1167\n",
            "Epoch 61, Validation Loss: 0.1166\n",
            "Epoch 61, Validation Loss: 0.1166\n",
            "Epoch 61, Validation Loss: 0.1166\n",
            "Epoch 61, Validation Loss: 0.1166\n",
            "Epoch 61, Validation Loss: 0.1166\n",
            "Epoch 61, Validation Loss: 0.1166\n",
            "Epoch 61, Validation Loss: 0.1166\n",
            "Epoch 91, Validation Loss: 0.1281\n",
            "Epoch 91, Validation Loss: 0.1301\n",
            "Epoch 91, Validation Loss: 0.1281\n",
            "Epoch 91, Validation Loss: 0.2341\n",
            "Epoch 91, Validation Loss: 0.1281\n",
            "Epoch 91, Validation Loss: 0.2069\n",
            "Epoch 91, Validation Loss: 0.1281\n",
            "Epoch 91, Validation Loss: 0.1281\n",
            "Epoch 91, Validation Loss: 0.1281\n",
            "Epoch 91, Validation Loss: 0.1308\n",
            "Epoch 91, Validation Loss: 0.1282\n",
            "Epoch 91, Validation Loss: 0.1281\n",
            "Epoch 91, Validation Loss: 0.1281\n",
            "Epoch 91, Validation Loss: 0.1281\n",
            "Epoch 91, Validation Loss: 0.1281\n",
            "Epoch 91, Validation Loss: 0.1281\n",
            "Epoch 91, Validation Loss: 0.1711\n",
            "Epoch 91, Validation Loss: 0.1281\n",
            "Epoch 91, Validation Loss: 0.1281\n",
            "Epoch 91, Validation Loss: 0.1281\n",
            "Epoch 91, Validation Loss: 0.1281\n",
            "Epoch 91, Validation Loss: 0.1281\n",
            "Epoch 91, Validation Loss: 0.1281\n",
            "Epoch 91, Validation Loss: 0.2340\n",
            "Epoch 91, Validation Loss: 0.1281\n",
            "Epoch 91, Validation Loss: 0.1281\n",
            "Epoch 91, Validation Loss: 0.1281\n",
            "Epoch 91, Validation Loss: 0.1281\n",
            "Epoch 91, Validation Loss: 0.1281\n",
            "Epoch 91, Validation Loss: 0.1281\n",
            "Epoch 91, Validation Loss: 0.1281\n",
            "Epoch 91, Validation Loss: 0.1281\n",
            "Epoch 91, Validation Loss: 0.1281\n",
            "Epoch 91, Validation Loss: 0.1281\n",
            "Epoch 91, Validation Loss: 0.1281\n",
            "Epoch 91, Validation Loss: 0.1281\n",
            "Epoch 91, Validation Loss: 0.1308\n",
            "Epoch 91, Validation Loss: 0.1308\n",
            "Epoch 91, Validation Loss: 0.1281\n",
            "Epoch 91, Validation Loss: 0.1281\n",
            "Epoch 91, Validation Loss: 0.1282\n",
            "Epoch 91, Validation Loss: 0.1282\n",
            "Epoch 91, Validation Loss: 0.1282\n",
            "Epoch 91, Validation Loss: 0.1282\n",
            "Epoch 91, Validation Loss: 0.1282\n",
            "Epoch 91, Validation Loss: 0.1283\n",
            "Epoch 91, Validation Loss: 0.1282\n",
            "Epoch 91, Validation Loss: 0.1282\n",
            "Epoch 91, Validation Loss: 0.1282\n",
            "Epoch 91, Validation Loss: 0.1282\n",
            "Epoch 91, Validation Loss: 0.1282\n",
            "Epoch 91, Validation Loss: 0.1282\n",
            "Epoch 91, Validation Loss: 0.1282\n",
            "Epoch 91, Validation Loss: 0.1282\n",
            "Epoch 91, Validation Loss: 0.1282\n",
            "Epoch 91, Validation Loss: 0.1282\n",
            "Epoch 91, Validation Loss: 0.1282\n",
            "Epoch 91, Validation Loss: 0.1282\n",
            "Epoch 91, Validation Loss: 0.1282\n",
            "Epoch 91, Validation Loss: 0.1282\n",
            "Epoch 91, Validation Loss: 0.1283\n",
            "Epoch 91, Validation Loss: 0.1283\n",
            "Epoch 91, Validation Loss: 0.1283\n",
            "Epoch 91, Validation Loss: 0.1283\n",
            "Epoch 91, Validation Loss: 0.1284\n",
            "Epoch 91, Validation Loss: 0.1283\n",
            "Epoch 91, Validation Loss: 0.2344\n",
            "Epoch 91, Validation Loss: 0.1283\n",
            "Epoch 91, Validation Loss: 0.1283\n",
            "Epoch 91, Validation Loss: 0.1283\n",
            "Epoch 91, Validation Loss: 0.1283\n",
            "Epoch 91, Validation Loss: 0.1283\n",
            "Epoch 91, Validation Loss: 0.1283\n",
            "Epoch 91, Validation Loss: 0.1285\n",
            "Epoch 91, Validation Loss: 0.1283\n",
            "Epoch 91, Validation Loss: 0.1283\n",
            "Epoch 91, Validation Loss: 0.1283\n",
            "Epoch 91, Validation Loss: 0.1283\n",
            "Epoch 91, Validation Loss: 0.1641\n",
            "Epoch 91, Validation Loss: 0.1284\n",
            "Epoch 91, Validation Loss: 0.1284\n",
            "Epoch 91, Validation Loss: 0.1284\n",
            "Epoch 91, Validation Loss: 0.1284\n",
            "Epoch 91, Validation Loss: 0.1284\n",
            "Epoch 91, Validation Loss: 0.1284\n",
            "Epoch 91, Validation Loss: 0.1293\n",
            "Epoch 91, Validation Loss: 0.1284\n",
            "Epoch 91, Validation Loss: 0.1284\n",
            "Epoch 91, Validation Loss: 0.1284\n",
            "Epoch 91, Validation Loss: 0.1284\n",
            "Epoch 91, Validation Loss: 0.1284\n",
            "Epoch 91, Validation Loss: 0.1284\n",
            "Epoch 91, Validation Loss: 0.1284\n",
            "Epoch 91, Validation Loss: 0.1285\n",
            "Epoch 91, Validation Loss: 0.1284\n",
            "Epoch 91, Validation Loss: 0.1284\n",
            "Epoch 91, Validation Loss: 0.1284\n",
            "Epoch 91, Validation Loss: 0.1284\n",
            "Epoch 91, Validation Loss: 0.1284\n",
            "Epoch 91, Validation Loss: 0.1284\n",
            "Epoch 91, Validation Loss: 0.1284\n",
            "Epoch 91, Validation Loss: 0.1642\n",
            "Epoch 91, Validation Loss: 0.1284\n",
            "Epoch 91, Validation Loss: 0.1284\n",
            "Epoch 91, Validation Loss: 0.1285\n",
            "Epoch 91, Validation Loss: 0.1285\n",
            "Epoch 91, Validation Loss: 0.2778\n",
            "Epoch 91, Validation Loss: 0.1429\n",
            "Epoch 91, Validation Loss: 0.1285\n",
            "Epoch 91, Validation Loss: 0.1305\n",
            "Epoch 91, Validation Loss: 0.1293\n",
            "Epoch 91, Validation Loss: 0.1285\n",
            "Epoch 91, Validation Loss: 0.1285\n",
            "Epoch 91, Validation Loss: 0.1285\n",
            "Epoch 91, Validation Loss: 0.1285\n",
            "Epoch 91, Validation Loss: 0.1285\n",
            "Epoch 91, Validation Loss: 0.1285\n",
            "Epoch 91, Validation Loss: 0.1285\n",
            "Epoch 91, Validation Loss: 0.1285\n",
            "Test Loss: 0.1126\n"
          ]
        }
      ]
    },
    {
      "cell_type": "code",
      "source": [
        "plt.plot(np.array(train_loss_list))"
      ],
      "metadata": {
        "colab": {
          "base_uri": "https://localhost:8080/",
          "height": 462
        },
        "id": "7h2PRvcwOl21",
        "outputId": "e3925593-67d0-4db3-ed98-a832707a548f"
      },
      "execution_count": null,
      "outputs": [
        {
          "output_type": "execute_result",
          "data": {
            "text/plain": [
              "[<matplotlib.lines.Line2D at 0x7d335cf9e850>]"
            ]
          },
          "metadata": {},
          "execution_count": 142
        },
        {
          "output_type": "display_data",
          "data": {
            "text/plain": [
              "<Figure size 640x480 with 1 Axes>"
            ],
            "image/png": "[encoded data removed]"
          },
          "metadata": {}
        }
      ]
    },
    {
      "cell_type": "code",
      "source": [
        "plt.plot(np.array(val_loss_list))"
      ],
      "metadata": {
        "colab": {
          "base_uri": "https://localhost:8080/",
          "height": 447
        },
        "id": "cL3I6rPHOq_M",
        "outputId": "3700c8a9-a0c4-40d0-d4f5-19d43fcbce57"
      },
      "execution_count": null,
      "outputs": [
        {
          "output_type": "execute_result",
          "data": {
            "text/plain": [
              "[<matplotlib.lines.Line2D at 0x7d335c9d2450>]"
            ]
          },
          "metadata": {},
          "execution_count": 143
        },
        {
          "output_type": "display_data",
          "data": {
            "text/plain": [
              "<Figure size 640x480 with 1 Axes>"
            ],
            "image/png": "[encoded data removed]"
          },
          "metadata": {}
        }
      ]
    },
    {
      "cell_type": "code",
      "source": [
        "#model is overfitting"
      ],
      "metadata": {
        "id": "7S_5VgeWO0tZ"
      },
      "execution_count": null,
      "outputs": []
    },
    {
      "cell_type": "code",
      "source": [
        "#lets try a new optimizer with weight decay"
      ],
      "metadata": {
        "id": "Jknmee1KPtMY"
      },
      "execution_count": null,
      "outputs": []
    },
    {
      "cell_type": "code",
      "source": [
        "optimizer_decay = optim.Adam(net.parameters(), weight_decay=1e-4)"
      ],
      "metadata": {
        "id": "Y_NyPPHKP7C7"
      },
      "execution_count": null,
      "outputs": []
    },
    {
      "cell_type": "code",
      "source": [
        "train_loss_list = []\n",
        "val_loss_list = []\n",
        "\n",
        "for epoch in range(epochs):\n",
        "  print_bool = True if epoch%40==0 else False\n",
        "  net.train()\n",
        "  for train_data_curr, train_label_curr in train_loader:\n",
        "    optimizer_decay.zero_grad()\n",
        "\n",
        "    #fwd\n",
        "    pred = net(train_data_curr).squeeze()\n",
        "\n",
        "    #loss\n",
        "    train_loss = loss_fn(pred, train_label_curr)\n",
        "    train_loss_list.append(train_loss.item())\n",
        "\n",
        "    #bwd\n",
        "    train_loss.backward()\n",
        "\n",
        "    #update weight\n",
        "    optimizer_decay.step()\n",
        "\n",
        "    #validation loop\n",
        "    net.eval()\n",
        "    val_loss = 0\n",
        "    with torch.no_grad():\n",
        "      for val_data_curr, val_label_curr in val_loader:\n",
        "        val_pred = net(val_data_curr).squeeze()\n",
        "        val_loss += loss_fn(val_pred, val_label_curr).item()\n",
        "    if(print_bool):\n",
        "      print(f\"Epoch {epoch+1}, Validation Loss: {val_loss / len(val_loader):.4f}\")\n",
        "    val_loss_list.append(val_loss / len(val_loader))\n",
        "\n",
        "\n",
        "#test\n",
        "net.eval()\n",
        "test_loss = 0\n",
        "with torch.no_grad():\n",
        "  for test_data_curr, test_label_curr in test_loader:\n",
        "    test_pred = net(test_data_curr).squeeze()\n",
        "    test_loss += loss_fn(test_pred, test_label_curr).item()\n",
        "print(f\"Test Loss: {test_loss / len(test_loader):.4f}\")"
      ],
      "metadata": {
        "colab": {
          "base_uri": "https://localhost:8080/"
        },
        "collapsed": true,
        "id": "B6ZBtgPkXABV",
        "outputId": "6ad41731-f62b-4e9e-d107-cba87d3646b6"
      },
      "execution_count": null,
      "outputs": [
        {
          "output_type": "stream",
          "name": "stdout",
          "text": [
            "Epoch 1, Validation Loss: 0.1296\n",
            "Epoch 1, Validation Loss: 0.1268\n",
            "Epoch 1, Validation Loss: 0.1242\n",
            "Epoch 1, Validation Loss: 0.1218\n",
            "Epoch 1, Validation Loss: 0.1198\n",
            "Epoch 1, Validation Loss: 0.1174\n",
            "Epoch 1, Validation Loss: 0.1155\n",
            "Epoch 1, Validation Loss: 0.1131\n",
            "Epoch 1, Validation Loss: 0.1111\n",
            "Epoch 1, Validation Loss: 0.1090\n",
            "Epoch 1, Validation Loss: 0.1068\n",
            "Epoch 1, Validation Loss: 0.1044\n",
            "Epoch 1, Validation Loss: 0.1024\n",
            "Epoch 1, Validation Loss: 0.1008\n",
            "Epoch 1, Validation Loss: 0.1153\n",
            "Epoch 1, Validation Loss: 0.1291\n",
            "Epoch 1, Validation Loss: 0.0946\n",
            "Epoch 1, Validation Loss: 0.0906\n",
            "Epoch 1, Validation Loss: 0.0870\n",
            "Epoch 1, Validation Loss: 0.0835\n",
            "Epoch 1, Validation Loss: 0.0804\n",
            "Epoch 1, Validation Loss: 0.1464\n",
            "Epoch 1, Validation Loss: 0.0744\n",
            "Epoch 1, Validation Loss: 0.0725\n",
            "Epoch 1, Validation Loss: 0.1146\n",
            "Epoch 1, Validation Loss: 0.0717\n",
            "Epoch 1, Validation Loss: 0.0720\n",
            "Epoch 1, Validation Loss: 0.0718\n",
            "Epoch 1, Validation Loss: 0.0827\n",
            "Epoch 1, Validation Loss: 0.0794\n",
            "Epoch 1, Validation Loss: 0.0966\n",
            "Epoch 1, Validation Loss: 0.0862\n",
            "Epoch 1, Validation Loss: 0.0897\n",
            "Epoch 1, Validation Loss: 0.0933\n",
            "Epoch 1, Validation Loss: 0.1330\n",
            "Epoch 1, Validation Loss: 0.1009\n",
            "Epoch 1, Validation Loss: 0.1462\n",
            "Epoch 1, Validation Loss: 0.1174\n",
            "Epoch 1, Validation Loss: 0.1148\n",
            "Epoch 1, Validation Loss: 0.1174\n",
            "Epoch 1, Validation Loss: 0.1216\n",
            "Epoch 1, Validation Loss: 0.1838\n",
            "Epoch 1, Validation Loss: 0.1313\n",
            "Epoch 1, Validation Loss: 0.1358\n",
            "Epoch 1, Validation Loss: 0.1400\n",
            "Epoch 1, Validation Loss: 0.1449\n",
            "Epoch 1, Validation Loss: 0.1491\n",
            "Epoch 1, Validation Loss: 0.1531\n",
            "Epoch 1, Validation Loss: 0.1571\n",
            "Epoch 1, Validation Loss: 0.2884\n",
            "Epoch 1, Validation Loss: 0.1651\n",
            "Epoch 1, Validation Loss: 0.1687\n",
            "Epoch 1, Validation Loss: 0.1722\n",
            "Epoch 1, Validation Loss: 0.1764\n",
            "Epoch 1, Validation Loss: 0.1802\n",
            "Epoch 1, Validation Loss: 0.1817\n",
            "Epoch 1, Validation Loss: 0.1830\n",
            "Epoch 1, Validation Loss: 0.1857\n",
            "Epoch 1, Validation Loss: 0.1845\n",
            "Epoch 1, Validation Loss: 0.1853\n",
            "Epoch 1, Validation Loss: 0.1863\n",
            "Epoch 1, Validation Loss: 0.1873\n",
            "Epoch 1, Validation Loss: 0.1880\n",
            "Epoch 1, Validation Loss: 0.1873\n",
            "Epoch 1, Validation Loss: 0.3278\n",
            "Epoch 1, Validation Loss: 0.1847\n",
            "Epoch 1, Validation Loss: 0.1838\n",
            "Epoch 1, Validation Loss: 0.1829\n",
            "Epoch 1, Validation Loss: 0.2066\n",
            "Epoch 1, Validation Loss: 0.1821\n",
            "Epoch 1, Validation Loss: 0.1820\n",
            "Epoch 1, Validation Loss: 0.5176\n",
            "Epoch 1, Validation Loss: 0.1813\n",
            "Epoch 1, Validation Loss: 0.1812\n",
            "Epoch 1, Validation Loss: 0.1814\n",
            "Epoch 1, Validation Loss: 0.1819\n",
            "Epoch 1, Validation Loss: 0.1827\n",
            "Epoch 1, Validation Loss: 0.1836\n",
            "Epoch 1, Validation Loss: 0.1846\n",
            "Epoch 1, Validation Loss: 0.5266\n",
            "Epoch 1, Validation Loss: 0.1851\n",
            "Epoch 1, Validation Loss: 0.1857\n",
            "Epoch 1, Validation Loss: 0.1864\n",
            "Epoch 1, Validation Loss: 0.1870\n",
            "Epoch 1, Validation Loss: 0.1894\n",
            "Epoch 1, Validation Loss: 0.1893\n",
            "Epoch 1, Validation Loss: 0.1912\n",
            "Epoch 1, Validation Loss: 0.1930\n",
            "Epoch 1, Validation Loss: 0.1946\n",
            "Epoch 1, Validation Loss: 0.1958\n",
            "Epoch 1, Validation Loss: 0.1961\n",
            "Epoch 1, Validation Loss: 0.1898\n",
            "Epoch 1, Validation Loss: 0.1851\n",
            "Epoch 1, Validation Loss: 0.2961\n",
            "Epoch 1, Validation Loss: 0.1799\n",
            "Epoch 1, Validation Loss: 0.1785\n",
            "Epoch 1, Validation Loss: 0.1805\n",
            "Epoch 1, Validation Loss: 0.1766\n",
            "Epoch 1, Validation Loss: 0.1759\n",
            "Epoch 1, Validation Loss: 0.1755\n",
            "Epoch 1, Validation Loss: 0.1751\n",
            "Epoch 1, Validation Loss: 0.1753\n",
            "Epoch 1, Validation Loss: 0.1746\n",
            "Epoch 1, Validation Loss: 0.1745\n",
            "Epoch 1, Validation Loss: 0.1742\n",
            "Epoch 1, Validation Loss: 0.1746\n",
            "Epoch 1, Validation Loss: 0.1748\n",
            "Epoch 1, Validation Loss: 0.2419\n",
            "Epoch 1, Validation Loss: 0.1753\n",
            "Epoch 1, Validation Loss: 0.1755\n",
            "Epoch 1, Validation Loss: 0.1767\n",
            "Epoch 1, Validation Loss: 0.1776\n",
            "Epoch 1, Validation Loss: 0.1759\n",
            "Epoch 1, Validation Loss: 0.2605\n",
            "Epoch 1, Validation Loss: 0.1732\n",
            "Epoch 1, Validation Loss: 0.1744\n",
            "Epoch 1, Validation Loss: 0.1727\n",
            "Epoch 1, Validation Loss: 0.1733\n",
            "Epoch 1, Validation Loss: 0.1740\n",
            "Epoch 41, Validation Loss: 0.1274\n",
            "Epoch 41, Validation Loss: 0.1282\n",
            "Epoch 41, Validation Loss: 0.1261\n",
            "Epoch 41, Validation Loss: 0.1256\n",
            "Epoch 41, Validation Loss: 0.1253\n",
            "Epoch 41, Validation Loss: 0.1250\n",
            "Epoch 41, Validation Loss: 0.1248\n",
            "Epoch 41, Validation Loss: 0.1247\n",
            "Epoch 41, Validation Loss: 0.1246\n",
            "Epoch 41, Validation Loss: 0.1245\n",
            "Epoch 41, Validation Loss: 0.1245\n",
            "Epoch 41, Validation Loss: 0.1253\n",
            "Epoch 41, Validation Loss: 0.1246\n",
            "Epoch 41, Validation Loss: 0.1247\n",
            "Epoch 41, Validation Loss: 0.1246\n",
            "Epoch 41, Validation Loss: 0.1247\n",
            "Epoch 41, Validation Loss: 0.1246\n",
            "Epoch 41, Validation Loss: 0.1384\n",
            "Epoch 41, Validation Loss: 0.1834\n",
            "Epoch 41, Validation Loss: 0.1248\n",
            "Epoch 41, Validation Loss: 0.1249\n",
            "Epoch 41, Validation Loss: 0.1250\n",
            "Epoch 41, Validation Loss: 0.1251\n",
            "Epoch 41, Validation Loss: 0.1250\n",
            "Epoch 41, Validation Loss: 0.1250\n",
            "Epoch 41, Validation Loss: 0.1256\n",
            "Epoch 41, Validation Loss: 0.1247\n",
            "Epoch 41, Validation Loss: 0.1247\n",
            "Epoch 41, Validation Loss: 0.1247\n",
            "Epoch 41, Validation Loss: 0.1247\n",
            "Epoch 41, Validation Loss: 0.1247\n",
            "Epoch 41, Validation Loss: 0.1247\n",
            "Epoch 41, Validation Loss: 0.1249\n",
            "Epoch 41, Validation Loss: 0.1251\n",
            "Epoch 41, Validation Loss: 0.1254\n",
            "Epoch 41, Validation Loss: 0.1256\n",
            "Epoch 41, Validation Loss: 0.1258\n",
            "Epoch 41, Validation Loss: 0.1298\n",
            "Epoch 41, Validation Loss: 0.1302\n",
            "Epoch 41, Validation Loss: 0.1292\n",
            "Epoch 41, Validation Loss: 0.1258\n",
            "Epoch 41, Validation Loss: 0.1262\n",
            "Epoch 41, Validation Loss: 0.1259\n",
            "Epoch 41, Validation Loss: 0.1254\n",
            "Epoch 41, Validation Loss: 0.1255\n",
            "Epoch 41, Validation Loss: 0.1254\n",
            "Epoch 41, Validation Loss: 0.1821\n",
            "Epoch 41, Validation Loss: 0.1289\n",
            "Epoch 41, Validation Loss: 0.1248\n",
            "Epoch 41, Validation Loss: 0.1263\n",
            "Epoch 41, Validation Loss: 0.1246\n",
            "Epoch 41, Validation Loss: 0.1244\n",
            "Epoch 41, Validation Loss: 0.1258\n",
            "Epoch 41, Validation Loss: 0.1242\n",
            "Epoch 41, Validation Loss: 0.1241\n",
            "Epoch 41, Validation Loss: 0.2581\n",
            "Epoch 41, Validation Loss: 0.1238\n",
            "Epoch 41, Validation Loss: 0.1237\n",
            "Epoch 41, Validation Loss: 0.1235\n",
            "Epoch 41, Validation Loss: 0.1236\n",
            "Epoch 41, Validation Loss: 0.1236\n",
            "Epoch 41, Validation Loss: 0.1236\n",
            "Epoch 41, Validation Loss: 0.1232\n",
            "Epoch 41, Validation Loss: 0.1228\n",
            "Epoch 41, Validation Loss: 0.1570\n",
            "Epoch 41, Validation Loss: 0.1224\n",
            "Epoch 41, Validation Loss: 0.1235\n",
            "Epoch 41, Validation Loss: 0.1221\n",
            "Epoch 41, Validation Loss: 0.1219\n",
            "Epoch 41, Validation Loss: 0.1216\n",
            "Epoch 41, Validation Loss: 0.1216\n",
            "Epoch 41, Validation Loss: 0.1213\n",
            "Epoch 41, Validation Loss: 0.1213\n",
            "Epoch 41, Validation Loss: 0.1213\n",
            "Epoch 41, Validation Loss: 0.1221\n",
            "Epoch 41, Validation Loss: 0.1777\n",
            "Epoch 41, Validation Loss: 0.1235\n",
            "Epoch 41, Validation Loss: 0.1496\n",
            "Epoch 41, Validation Loss: 0.2619\n",
            "Epoch 41, Validation Loss: 0.1259\n",
            "Epoch 41, Validation Loss: 0.1266\n",
            "Epoch 41, Validation Loss: 0.1273\n",
            "Epoch 41, Validation Loss: 0.1279\n",
            "Epoch 41, Validation Loss: 0.1443\n",
            "Epoch 41, Validation Loss: 0.1291\n",
            "Epoch 41, Validation Loss: 0.1311\n",
            "Epoch 41, Validation Loss: 0.1304\n",
            "Epoch 41, Validation Loss: 0.1308\n",
            "Epoch 41, Validation Loss: 0.1311\n",
            "Epoch 41, Validation Loss: 0.1313\n",
            "Epoch 41, Validation Loss: 0.1315\n",
            "Epoch 41, Validation Loss: 0.1317\n",
            "Epoch 41, Validation Loss: 0.1950\n",
            "Epoch 41, Validation Loss: 0.1286\n",
            "Epoch 41, Validation Loss: 0.1274\n",
            "Epoch 41, Validation Loss: 0.1269\n",
            "Epoch 41, Validation Loss: 0.1259\n",
            "Epoch 41, Validation Loss: 0.1237\n",
            "Epoch 41, Validation Loss: 0.1219\n",
            "Epoch 41, Validation Loss: 0.1203\n",
            "Epoch 41, Validation Loss: 0.1193\n",
            "Epoch 41, Validation Loss: 0.1177\n",
            "Epoch 41, Validation Loss: 0.1165\n",
            "Epoch 41, Validation Loss: 0.1154\n",
            "Epoch 41, Validation Loss: 0.1145\n",
            "Epoch 41, Validation Loss: 0.1135\n",
            "Epoch 41, Validation Loss: 0.1345\n",
            "Epoch 41, Validation Loss: 0.1128\n",
            "Epoch 41, Validation Loss: 0.1110\n",
            "Epoch 41, Validation Loss: 0.1112\n",
            "Epoch 41, Validation Loss: 0.1114\n",
            "Epoch 41, Validation Loss: 0.1120\n",
            "Epoch 41, Validation Loss: 0.1127\n",
            "Epoch 41, Validation Loss: 0.2479\n",
            "Epoch 41, Validation Loss: 0.1104\n",
            "Epoch 41, Validation Loss: 0.1097\n",
            "Epoch 41, Validation Loss: 0.1093\n",
            "Epoch 41, Validation Loss: 0.1090\n",
            "Epoch 41, Validation Loss: 0.1088\n",
            "Epoch 81, Validation Loss: 0.1188\n",
            "Epoch 81, Validation Loss: 0.0867\n",
            "Epoch 81, Validation Loss: 0.0866\n",
            "Epoch 81, Validation Loss: 0.0865\n",
            "Epoch 81, Validation Loss: 0.0864\n",
            "Epoch 81, Validation Loss: 0.0864\n",
            "Epoch 81, Validation Loss: 0.0863\n",
            "Epoch 81, Validation Loss: 0.0863\n",
            "Epoch 81, Validation Loss: 0.0862\n",
            "Epoch 81, Validation Loss: 0.0863\n",
            "Epoch 81, Validation Loss: 0.0861\n",
            "Epoch 81, Validation Loss: 0.0861\n",
            "Epoch 81, Validation Loss: 0.0864\n",
            "Epoch 81, Validation Loss: 0.0860\n",
            "Epoch 81, Validation Loss: 0.0969\n",
            "Epoch 81, Validation Loss: 0.0862\n",
            "Epoch 81, Validation Loss: 0.0863\n",
            "Epoch 81, Validation Loss: 0.0859\n",
            "Epoch 81, Validation Loss: 0.0858\n",
            "Epoch 81, Validation Loss: 0.0858\n",
            "Epoch 81, Validation Loss: 0.0858\n",
            "Epoch 81, Validation Loss: 0.0857\n",
            "Epoch 81, Validation Loss: 0.0856\n",
            "Epoch 81, Validation Loss: 0.0855\n",
            "Epoch 81, Validation Loss: 0.0854\n",
            "Epoch 81, Validation Loss: 0.0854\n",
            "Epoch 81, Validation Loss: 0.0853\n",
            "Epoch 81, Validation Loss: 0.0852\n",
            "Epoch 81, Validation Loss: 0.0856\n",
            "Epoch 81, Validation Loss: 0.0852\n",
            "Epoch 81, Validation Loss: 0.0853\n",
            "Epoch 81, Validation Loss: 0.0853\n",
            "Epoch 81, Validation Loss: 0.0852\n",
            "Epoch 81, Validation Loss: 0.0853\n",
            "Epoch 81, Validation Loss: 0.0851\n",
            "Epoch 81, Validation Loss: 0.0851\n",
            "Epoch 81, Validation Loss: 0.0851\n",
            "Epoch 81, Validation Loss: 0.0853\n",
            "Epoch 81, Validation Loss: 0.0850\n",
            "Epoch 81, Validation Loss: 0.0852\n",
            "Epoch 81, Validation Loss: 0.0850\n",
            "Epoch 81, Validation Loss: 0.0850\n",
            "Epoch 81, Validation Loss: 0.0850\n",
            "Epoch 81, Validation Loss: 0.0854\n",
            "Epoch 81, Validation Loss: 0.0850\n",
            "Epoch 81, Validation Loss: 0.0849\n",
            "Epoch 81, Validation Loss: 0.0849\n",
            "Epoch 81, Validation Loss: 0.0849\n",
            "Epoch 81, Validation Loss: 0.0849\n",
            "Epoch 81, Validation Loss: 0.0849\n",
            "Epoch 81, Validation Loss: 0.0849\n",
            "Epoch 81, Validation Loss: 0.0849\n",
            "Epoch 81, Validation Loss: 0.0848\n",
            "Epoch 81, Validation Loss: 0.0848\n",
            "Epoch 81, Validation Loss: 0.0848\n",
            "Epoch 81, Validation Loss: 0.0848\n",
            "Epoch 81, Validation Loss: 0.0848\n",
            "Epoch 81, Validation Loss: 0.0852\n",
            "Epoch 81, Validation Loss: 0.0850\n",
            "Epoch 81, Validation Loss: 0.0848\n",
            "Epoch 81, Validation Loss: 0.0848\n",
            "Epoch 81, Validation Loss: 0.0848\n",
            "Epoch 81, Validation Loss: 0.0848\n",
            "Epoch 81, Validation Loss: 0.0848\n",
            "Epoch 81, Validation Loss: 0.0849\n",
            "Epoch 81, Validation Loss: 0.0849\n",
            "Epoch 81, Validation Loss: 0.0960\n",
            "Epoch 81, Validation Loss: 0.0849\n",
            "Epoch 81, Validation Loss: 0.0851\n",
            "Epoch 81, Validation Loss: 0.0849\n",
            "Epoch 81, Validation Loss: 0.0849\n",
            "Epoch 81, Validation Loss: 0.0849\n",
            "Epoch 81, Validation Loss: 0.0851\n",
            "Epoch 81, Validation Loss: 0.0849\n",
            "Epoch 81, Validation Loss: 0.0849\n",
            "Epoch 81, Validation Loss: 0.0849\n",
            "Epoch 81, Validation Loss: 0.0851\n",
            "Epoch 81, Validation Loss: 0.0850\n",
            "Epoch 81, Validation Loss: 0.0851\n",
            "Epoch 81, Validation Loss: 0.0850\n",
            "Epoch 81, Validation Loss: 0.0850\n",
            "Epoch 81, Validation Loss: 0.0850\n",
            "Epoch 81, Validation Loss: 0.0851\n",
            "Epoch 81, Validation Loss: 0.0851\n",
            "Epoch 81, Validation Loss: 0.0851\n",
            "Epoch 81, Validation Loss: 0.0852\n",
            "Epoch 81, Validation Loss: 0.0858\n",
            "Epoch 81, Validation Loss: 0.0852\n",
            "Epoch 81, Validation Loss: 0.1392\n",
            "Epoch 81, Validation Loss: 0.0852\n",
            "Epoch 81, Validation Loss: 0.0852\n",
            "Epoch 81, Validation Loss: 0.0852\n",
            "Epoch 81, Validation Loss: 0.0852\n",
            "Epoch 81, Validation Loss: 0.0853\n",
            "Epoch 81, Validation Loss: 0.0852\n",
            "Epoch 81, Validation Loss: 0.0960\n",
            "Epoch 81, Validation Loss: 0.0853\n",
            "Epoch 81, Validation Loss: 0.0852\n",
            "Epoch 81, Validation Loss: 0.0853\n",
            "Epoch 81, Validation Loss: 0.0852\n",
            "Epoch 81, Validation Loss: 0.0852\n",
            "Epoch 81, Validation Loss: 0.0853\n",
            "Epoch 81, Validation Loss: 0.0853\n",
            "Epoch 81, Validation Loss: 0.0853\n",
            "Epoch 81, Validation Loss: 0.1690\n",
            "Epoch 81, Validation Loss: 0.0852\n",
            "Epoch 81, Validation Loss: 0.1553\n",
            "Epoch 81, Validation Loss: 0.0852\n",
            "Epoch 81, Validation Loss: 0.0852\n",
            "Epoch 81, Validation Loss: 0.0853\n",
            "Epoch 81, Validation Loss: 0.0853\n",
            "Epoch 81, Validation Loss: 0.0852\n",
            "Epoch 81, Validation Loss: 0.0852\n",
            "Epoch 81, Validation Loss: 0.0852\n",
            "Epoch 81, Validation Loss: 0.0852\n",
            "Epoch 81, Validation Loss: 0.0851\n",
            "Epoch 81, Validation Loss: 0.0850\n",
            "Epoch 81, Validation Loss: 0.0850\n",
            "Epoch 81, Validation Loss: 0.0850\n",
            "Test Loss: 0.0688\n"
          ]
        }
      ]
    },
    {
      "cell_type": "code",
      "source": [
        "plt.plot(np.array(train_loss_list))"
      ],
      "metadata": {
        "colab": {
          "base_uri": "https://localhost:8080/",
          "height": 447
        },
        "id": "lCJelJ2rXQS1",
        "outputId": "1ffe7298-a944-4095-d726-5dc0a6582456"
      },
      "execution_count": null,
      "outputs": [
        {
          "output_type": "execute_result",
          "data": {
            "text/plain": [
              "[<matplotlib.lines.Line2D at 0x7d335ca6d290>]"
            ]
          },
          "metadata": {},
          "execution_count": 148
        },
        {
          "output_type": "display_data",
          "data": {
            "text/plain": [
              "<Figure size 640x480 with 1 Axes>"
            ],
            "image/png": "[encoded data removed]"
          },
          "metadata": {}
        }
      ]
    },
    {
      "cell_type": "code",
      "source": [
        "plt.plot(np.array(val_loss_list))"
      ],
      "metadata": {
        "colab": {
          "base_uri": "https://localhost:8080/",
          "height": 447
        },
        "id": "ChD19fLbYSRi",
        "outputId": "6b37bdb0-8f23-41a2-8361-5c6e34f046fd"
      },
      "execution_count": null,
      "outputs": [
        {
          "output_type": "execute_result",
          "data": {
            "text/plain": [
              "[<matplotlib.lines.Line2D at 0x7d335cae7250>]"
            ]
          },
          "metadata": {},
          "execution_count": 149
        },
        {
          "output_type": "display_data",
          "data": {
            "text/plain": [
              "<Figure size 640x480 with 1 Axes>"
            ],
            "image/png": "[encoded data removed]"
          },
          "metadata": {}
        }
      ]
    },
    {
      "cell_type": "code",
      "source": [
        "#plots look way better, and test loss is much lower. Can we improve it further with dropout?"
      ],
      "metadata": {
        "id": "R-XuDVvgYTfu"
      },
      "execution_count": null,
      "outputs": []
    },
    {
      "cell_type": "code",
      "source": [
        "class Net_dropout(Net):\n",
        "  def __init__(self, drop_rate=0.4):\n",
        "    super(Net_dropout, self).__init__()\n",
        "    self.dropout1 = nn.Dropout(drop_rate)\n",
        "    self.dropout2 = nn.Dropout(drop_rate)\n",
        "\n",
        "  def forward(self, input):\n",
        "    f1 = F.relu(self.fc1(input))\n",
        "    f1_drop = self.dropout1(f1)\n",
        "\n",
        "    f2 = F.relu(self.fc2(f1_drop))\n",
        "    f2_drop = self.dropout2(f2)\n",
        "\n",
        "    f3 = F.sigmoid(self.fc3(f2_drop))\n",
        "    return f3"
      ],
      "metadata": {
        "id": "hRcxRak-ZeOj"
      },
      "execution_count": null,
      "outputs": []
    },
    {
      "cell_type": "code",
      "source": [
        "net2 = Net_dropout()\n",
        "optimizer_decay_drop = optim.Adam(net2.parameters(), weight_decay=1e-4)\n",
        "\n",
        "train_loss_list = []\n",
        "val_loss_list = []\n",
        "\n",
        "for epoch in range(epochs):\n",
        "  print_bool = True if epoch%40==0 else False\n",
        "  net2.train()\n",
        "  for train_data_curr, train_label_curr in train_loader:\n",
        "    optimizer_decay_drop.zero_grad()\n",
        "\n",
        "    #fwd\n",
        "    pred = net2(train_data_curr).squeeze()\n",
        "\n",
        "    #loss\n",
        "    train_loss = loss_fn(pred, train_label_curr)\n",
        "    train_loss_list.append(train_loss.item())\n",
        "\n",
        "    #bwd\n",
        "    train_loss.backward()\n",
        "\n",
        "    #update weight\n",
        "    optimizer_decay_drop.step()\n",
        "\n",
        "    #validation loop\n",
        "    net2.eval()\n",
        "    val_loss = 0\n",
        "    with torch.no_grad():\n",
        "      for val_data_curr, val_label_curr in val_loader:\n",
        "        val_pred = net2(val_data_curr).squeeze()\n",
        "        val_loss += loss_fn(val_pred, val_label_curr).item()\n",
        "    val_loss_list.append(val_loss / len(val_loader))\n",
        "\n",
        "\n",
        "#test\n",
        "net2.eval()\n",
        "test_loss = 0\n",
        "with torch.no_grad():\n",
        "  for test_data_curr, test_label_curr in test_loader:\n",
        "    test_pred = net2(test_data_curr).squeeze()\n",
        "    test_loss += loss_fn(test_pred, test_label_curr).item()\n",
        "print(f\"Test Loss: {test_loss / len(test_loader):.4f}\")"
      ],
      "metadata": {
        "colab": {
          "base_uri": "https://localhost:8080/"
        },
        "id": "v01VqpFeajok",
        "outputId": "adbddb5b-77ae-4584-c5b3-e1eb3143405a"
      },
      "execution_count": null,
      "outputs": [
        {
          "output_type": "stream",
          "name": "stdout",
          "text": [
            "Test Loss: 0.1499\n"
          ]
        }
      ]
    },
    {
      "cell_type": "code",
      "source": [
        "plt.plot(np.array(train_loss_list))"
      ],
      "metadata": {
        "colab": {
          "base_uri": "https://localhost:8080/",
          "height": 447
        },
        "id": "1DaG2yEAbAE_",
        "outputId": "122d904d-96e8-4ae3-8dc5-3e29fb6a0359"
      },
      "execution_count": null,
      "outputs": [
        {
          "output_type": "execute_result",
          "data": {
            "text/plain": [
              "[<matplotlib.lines.Line2D at 0x7d335c8f0f10>]"
            ]
          },
          "metadata": {},
          "execution_count": 168
        },
        {
          "output_type": "display_data",
          "data": {
            "text/plain": [
              "<Figure size 640x480 with 1 Axes>"
            ],
            "image/png": "[encoded data removed]"
          },
          "metadata": {}
        }
      ]
    },
    {
      "cell_type": "code",
      "source": [
        "plt.plot(np.array(val_loss_list))"
      ],
      "metadata": {
        "colab": {
          "base_uri": "https://localhost:8080/",
          "height": 447
        },
        "id": "33yeuO9EcdRV",
        "outputId": "fdc93f28-3297-4924-9817-6c18266082fe"
      },
      "execution_count": null,
      "outputs": [
        {
          "output_type": "execute_result",
          "data": {
            "text/plain": [
              "[<matplotlib.lines.Line2D at 0x7d335c817f50>]"
            ]
          },
          "metadata": {},
          "execution_count": 169
        },
        {
          "output_type": "display_data",
          "data": {
            "text/plain": [
              "<Figure size 640x480 with 1 Axes>"
            ],
            "image/png": "[encoded data removed]"
          },
          "metadata": {}
        }
      ]
    },
    {
      "cell_type": "code",
      "source": [
        "#not the best"
      ],
      "metadata": {
        "id": "gR8WHq07ceyI"
      },
      "execution_count": null,
      "outputs": []
    },
    {
      "cell_type": "code",
      "source": [
        "net2 = Net_dropout(drop_rate=0.1)\n",
        "optimizer_decay_drop = optim.Adam(net2.parameters(), weight_decay=1e-4)\n",
        "\n",
        "train_loss_list = []\n",
        "val_loss_list = []\n",
        "\n",
        "for epoch in range(epochs):\n",
        "  print_bool = True if epoch%40==0 else False\n",
        "  net2.train()\n",
        "  for train_data_curr, train_label_curr in train_loader:\n",
        "    optimizer_decay_drop.zero_grad()\n",
        "\n",
        "    #fwd\n",
        "    pred = net2(train_data_curr).squeeze()\n",
        "\n",
        "    #loss\n",
        "    train_loss = loss_fn(pred, train_label_curr)\n",
        "    train_loss_list.append(train_loss.item())\n",
        "\n",
        "    #bwd\n",
        "    train_loss.backward()\n",
        "\n",
        "    #update weight\n",
        "    optimizer_decay_drop.step()\n",
        "\n",
        "    #validation loop\n",
        "    net2.eval()\n",
        "    val_loss = 0\n",
        "    with torch.no_grad():\n",
        "      for val_data_curr, val_label_curr in val_loader:\n",
        "        val_pred = net2(val_data_curr).squeeze()\n",
        "        val_loss += loss_fn(val_pred, val_label_curr).item()\n",
        "    val_loss_list.append(val_loss / len(val_loader))\n",
        "\n",
        "\n",
        "#test\n",
        "net2.eval()\n",
        "test_loss = 0\n",
        "with torch.no_grad():\n",
        "  for test_data_curr, test_label_curr in test_loader:\n",
        "    test_pred = net2(test_data_curr).squeeze()\n",
        "    test_loss += loss_fn(test_pred, test_label_curr).item()\n",
        "print(f\"Test Loss: {test_loss / len(test_loader):.4f}\")"
      ],
      "metadata": {
        "colab": {
          "base_uri": "https://localhost:8080/"
        },
        "id": "Yi9FKSzPfIoI",
        "outputId": "ce7ed06d-c38b-4597-dbfa-b5d46daeffef"
      },
      "execution_count": null,
      "outputs": [
        {
          "output_type": "stream",
          "name": "stdout",
          "text": [
            "Test Loss: 0.1042\n"
          ]
        }
      ]
    },
    {
      "cell_type": "code",
      "source": [
        "plt.plot(np.array(train_loss_list))"
      ],
      "metadata": {
        "colab": {
          "base_uri": "https://localhost:8080/",
          "height": 447
        },
        "id": "-B1va6qmfMXZ",
        "outputId": "ae40bdad-6bc4-4401-a515-277b7a736623"
      },
      "execution_count": null,
      "outputs": [
        {
          "output_type": "execute_result",
          "data": {
            "text/plain": [
              "[<matplotlib.lines.Line2D at 0x7d335cad5650>]"
            ]
          },
          "metadata": {},
          "execution_count": 171
        },
        {
          "output_type": "display_data",
          "data": {
            "text/plain": [
              "<Figure size 640x480 with 1 Axes>"
            ],
            "image/png": "[encoded data removed]"
          },
          "metadata": {}
        }
      ]
    },
    {
      "cell_type": "code",
      "source": [
        "plt.plot(np.array(val_loss_list))"
      ],
      "metadata": {
        "colab": {
          "base_uri": "https://localhost:8080/",
          "height": 447
        },
        "id": "r6jWY1Jkf16Q",
        "outputId": "f3841be7-33d0-496c-ef4a-bc9f439ad281"
      },
      "execution_count": null,
      "outputs": [
        {
          "output_type": "execute_result",
          "data": {
            "text/plain": [
              "[<matplotlib.lines.Line2D at 0x7d335c792c50>]"
            ]
          },
          "metadata": {},
          "execution_count": 172
        },
        {
          "output_type": "display_data",
          "data": {
            "text/plain": [
              "<Figure size 640x480 with 1 Axes>"
            ],
            "image/png": "[encoded data removed]"
          },
          "metadata": {}
        }
      ]
    },
    {
      "cell_type": "code",
      "source": [
        "#still bad, avoid dropout and lets try lower learning rate"
      ],
      "metadata": {
        "id": "J3Wi1wSaf27M"
      },
      "execution_count": null,
      "outputs": []
    },
    {
      "cell_type": "code",
      "source": [
        "optimizer_decay_drop_slowlearn = optim.Adam(net.parameters(), weight_decay=1e-4, lr=0.0001)\n",
        "\n",
        "train_loss_list = []\n",
        "val_loss_list = []\n",
        "\n",
        "for epoch in range(epochs):\n",
        "  print_bool = True if epoch%40==0 else False\n",
        "  net.train()\n",
        "  for train_data_curr, train_label_curr in train_loader:\n",
        "    optimizer_decay_drop_slowlearn.zero_grad()\n",
        "\n",
        "    #fwd\n",
        "    pred = net(train_data_curr).squeeze()\n",
        "\n",
        "    #loss\n",
        "    train_loss = loss_fn(pred, train_label_curr)\n",
        "    train_loss_list.append(train_loss.item())\n",
        "\n",
        "    #bwd\n",
        "    train_loss.backward()\n",
        "\n",
        "    #update weight\n",
        "    optimizer_decay_drop_slowlearn.step()\n",
        "\n",
        "    #validation loop\n",
        "    net.eval()\n",
        "    val_loss = 0\n",
        "    with torch.no_grad():\n",
        "      for val_data_curr, val_label_curr in val_loader:\n",
        "        val_pred = net(val_data_curr).squeeze()\n",
        "        val_loss += loss_fn(val_pred, val_label_curr).item()\n",
        "    val_loss_list.append(val_loss / len(val_loader))\n",
        "\n",
        "\n",
        "#test\n",
        "net.eval()\n",
        "test_loss = 0\n",
        "with torch.no_grad():\n",
        "  for test_data_curr, test_label_curr in test_loader:\n",
        "    test_pred = net(test_data_curr).squeeze()\n",
        "    test_loss += loss_fn(test_pred, test_label_curr).item()\n",
        "print(f\"Test Loss: {test_loss / len(test_loader):.4f}\")"
      ],
      "metadata": {
        "colab": {
          "base_uri": "https://localhost:8080/"
        },
        "id": "BWMEbpo-gpOP",
        "outputId": "e7fc7230-4881-4028-adfd-2f092701d1b7"
      },
      "execution_count": null,
      "outputs": [
        {
          "output_type": "stream",
          "name": "stdout",
          "text": [
            "Test Loss: 0.0644\n"
          ]
        }
      ]
    },
    {
      "cell_type": "code",
      "source": [
        "plt.plot(np.array(train_loss_list))"
      ],
      "metadata": {
        "colab": {
          "base_uri": "https://localhost:8080/",
          "height": 447
        },
        "id": "j_Jk56Vbg559",
        "outputId": "05341733-f7fd-4cb3-c488-7729e8eb4ff4"
      },
      "execution_count": null,
      "outputs": [
        {
          "output_type": "execute_result",
          "data": {
            "text/plain": [
              "[<matplotlib.lines.Line2D at 0x7d335c5d63d0>]"
            ]
          },
          "metadata": {},
          "execution_count": 179
        },
        {
          "output_type": "display_data",
          "data": {
            "text/plain": [
              "<Figure size 640x480 with 1 Axes>"
            ],
            "image/png": "[encoded data removed]"
          },
          "metadata": {}
        }
      ]
    },
    {
      "cell_type": "code",
      "source": [
        "plt.plot(np.array(val_loss_list))"
      ],
      "metadata": {
        "colab": {
          "base_uri": "https://localhost:8080/",
          "height": 447
        },
        "id": "1NntnUgAg6u5",
        "outputId": "2fdcd6b3-0954-4b0f-d22e-97d981c060fd"
      },
      "execution_count": null,
      "outputs": [
        {
          "output_type": "execute_result",
          "data": {
            "text/plain": [
              "[<matplotlib.lines.Line2D at 0x7d335c593010>]"
            ]
          },
          "metadata": {},
          "execution_count": 180
        },
        {
          "output_type": "display_data",
          "data": {
            "text/plain": [
              "<Figure size 640x480 with 1 Axes>"
            ],
            "image/png": "[encoded data removed]"
          },
          "metadata": {}
        }
      ]
    },
    {
      "cell_type": "code",
      "source": [
        "epochs = 500\n",
        "optimizer_decay = optim.Adam(net.parameters(), weight_decay=1e-4)\n",
        "\n",
        "train_loss_list = []\n",
        "val_loss_list = []\n",
        "\n",
        "for epoch in range(epochs):\n",
        "  print_bool = True if epoch%40==0 else False\n",
        "  net.train()\n",
        "  for train_data_curr, train_label_curr in train_loader:\n",
        "    optimizer_decay.zero_grad()\n",
        "\n",
        "    #fwd\n",
        "    pred = net(train_data_curr).squeeze()\n",
        "\n",
        "    #loss\n",
        "    train_loss = loss_fn(pred, train_label_curr)\n",
        "    train_loss_list.append(train_loss.item())\n",
        "\n",
        "    #bwd\n",
        "    train_loss.backward()\n",
        "\n",
        "    #update weight\n",
        "    optimizer_decay.step()\n",
        "\n",
        "    #validation loop\n",
        "    net.eval()\n",
        "    val_loss = 0\n",
        "    with torch.no_grad():\n",
        "      for val_data_curr, val_label_curr in val_loader:\n",
        "        val_pred = net(val_data_curr).squeeze()\n",
        "        val_loss += loss_fn(val_pred, val_label_curr).item()\n",
        "    val_loss_list.append(val_loss / len(val_loader))\n",
        "\n",
        "\n",
        "#test\n",
        "net.eval()\n",
        "test_loss = 0\n",
        "with torch.no_grad():\n",
        "  for test_data_curr, test_label_curr in test_loader:\n",
        "    test_pred = net(test_data_curr).squeeze()\n",
        "    test_loss += loss_fn(test_pred, test_label_curr).item()\n",
        "print(f\"Test Loss: {test_loss / len(test_loader):.4f}\")"
      ],
      "metadata": {
        "colab": {
          "base_uri": "https://localhost:8080/"
        },
        "id": "-iNNx0ten-18",
        "outputId": "e25d08a9-0fa3-4fb0-a225-ed1c78ca0601"
      },
      "execution_count": null,
      "outputs": [
        {
          "output_type": "stream",
          "name": "stdout",
          "text": [
            "Test Loss: 0.1206\n"
          ]
        }
      ]
    },
    {
      "cell_type": "code",
      "source": [
        "plt.plot(np.array(train_loss_list))"
      ],
      "metadata": {
        "colab": {
          "base_uri": "https://localhost:8080/",
          "height": 447
        },
        "id": "jd-8eRhXqrPF",
        "outputId": "283ddfd7-d196-462b-9221-bd503b516ff9"
      },
      "execution_count": null,
      "outputs": [
        {
          "output_type": "execute_result",
          "data": {
            "text/plain": [
              "[<matplotlib.lines.Line2D at 0x7d3355dd9110>]"
            ]
          },
          "metadata": {},
          "execution_count": 202
        },
        {
          "output_type": "display_data",
          "data": {
            "text/plain": [
              "<Figure size 640x480 with 1 Axes>"
            ],
            "image/png": "[encoded data removed]"
          },
          "metadata": {}
        }
      ]
    },
    {
      "cell_type": "code",
      "source": [
        "plt.plot(np.array(val_loss_list))"
      ],
      "metadata": {
        "colab": {
          "base_uri": "https://localhost:8080/",
          "height": 447
        },
        "id": "0oGFQlgZrhHO",
        "outputId": "97da7d5f-3a40-41de-d733-abd1810a8184"
      },
      "execution_count": null,
      "outputs": [
        {
          "output_type": "execute_result",
          "data": {
            "text/plain": [
              "[<matplotlib.lines.Line2D at 0x7d3355c3f710>]"
            ]
          },
          "metadata": {},
          "execution_count": 203
        },
        {
          "output_type": "display_data",
          "data": {
            "text/plain": [
              "<Figure size 640x480 with 1 Axes>"
            ],
            "image/png": "[encoded data removed]"
          },
          "metadata": {}
        }
      ]
    },
    {
      "cell_type": "code",
      "source": [
        "class Net(nn.Module):\n",
        "  def __init__(self):\n",
        "    super(Net, self).__init__()\n",
        "    self.fc1 = nn.Linear(1838, 50)\n",
        "    self.bn1 = nn.BatchNorm1d(50)\n",
        "    self.fc2 = nn.Linear(50,10)\n",
        "    self.bn2 = nn.BatchNorm1d(10)\n",
        "    self.fc3 = nn.Linear(10,1)\n",
        "\n",
        "  def forward(self, input):\n",
        "    f1 = self.fc1(input)\n",
        "    f1 = F.relu(self.bn1(f1))\n",
        "\n",
        "    f2 = self.fc2(f1)\n",
        "    f2 = F.relu(self.bn2(f2))\n",
        "\n",
        "    f3 = F.sigmoid(self.fc3(f2))\n",
        "    return f3\n",
        "\n",
        "net = Net()"
      ],
      "metadata": {
        "id": "yyb0Agj4vefu"
      },
      "execution_count": null,
      "outputs": []
    },
    {
      "cell_type": "code",
      "source": [
        "epochs = 100\n",
        "optimizer_decay = optim.Adam(net.parameters(), weight_decay=1e-3)\n",
        "\n",
        "train_loss_list = []\n",
        "val_loss_list = []\n",
        "\n",
        "for epoch in range(epochs):\n",
        "  print_bool = True if epoch%40==0 else False\n",
        "  net.train()\n",
        "  for train_data_curr, train_label_curr in train_loader:\n",
        "    optimizer_decay.zero_grad()\n",
        "\n",
        "    #fwd\n",
        "    pred = net(train_data_curr).squeeze()\n",
        "\n",
        "    #loss\n",
        "    train_loss = loss_fn(pred, train_label_curr)\n",
        "    train_loss_list.append(train_loss.item())\n",
        "\n",
        "    #bwd\n",
        "    train_loss.backward()\n",
        "    utils.clip_grad_norm_(net.parameters(), max_norm=1.0)\n",
        "\n",
        "    #update weight\n",
        "    optimizer_decay.step()\n",
        "\n",
        "    #validation loop\n",
        "    net.eval()\n",
        "    val_loss = 0\n",
        "    with torch.no_grad():\n",
        "      for val_data_curr, val_label_curr in val_loader:\n",
        "        val_pred = net(val_data_curr).squeeze()\n",
        "        val_loss += loss_fn(val_pred, val_label_curr).item()\n",
        "    val_loss_list.append(val_loss / len(val_loader))\n",
        "\n",
        "\n",
        "#test\n",
        "net.eval()\n",
        "test_loss = 0\n",
        "with torch.no_grad():\n",
        "  for test_data_curr, test_label_curr in test_loader:\n",
        "    test_pred = net(test_data_curr).squeeze()\n",
        "    test_loss += loss_fn(test_pred, test_label_curr).item()\n",
        "print(f\"Test Loss: {test_loss / len(test_loader):.4f}\")"
      ],
      "metadata": {
        "colab": {
          "base_uri": "https://localhost:8080/"
        },
        "id": "KR2CTSVxriI5",
        "outputId": "8def0caa-9ad7-4757-a094-c4d853c776a5"
      },
      "execution_count": null,
      "outputs": [
        {
          "output_type": "stream",
          "name": "stdout",
          "text": [
            "Test Loss: 0.0588\n"
          ]
        }
      ]
    },
    {
      "cell_type": "code",
      "source": [
        "plt.plot(np.array(train_loss_list))"
      ],
      "metadata": {
        "colab": {
          "base_uri": "https://localhost:8080/",
          "height": 447
        },
        "id": "abzJwPZPvnYL",
        "outputId": "3f43fe13-a0c0-4266-88c4-f8eb6529f9cc"
      },
      "execution_count": null,
      "outputs": [
        {
          "output_type": "execute_result",
          "data": {
            "text/plain": [
              "[<matplotlib.lines.Line2D at 0x79a5b91bd050>]"
            ]
          },
          "metadata": {},
          "execution_count": 50
        },
        {
          "output_type": "display_data",
          "data": {
            "text/plain": [
              "<Figure size 640x480 with 1 Axes>"
            ],
            "image/png": "[encoded data removed]"
          },
          "metadata": {}
        }
      ]
    },
    {
      "cell_type": "code",
      "source": [
        "plt.plot(np.array(val_loss_list))"
      ],
      "metadata": {
        "colab": {
          "base_uri": "https://localhost:8080/",
          "height": 447
        },
        "id": "FFEhwb7oypiO",
        "outputId": "0e3010bc-fe28-4794-f151-987df1c56b98"
      },
      "execution_count": null,
      "outputs": [
        {
          "output_type": "execute_result",
          "data": {
            "text/plain": [
              "[<matplotlib.lines.Line2D at 0x79a5b9207790>]"
            ]
          },
          "metadata": {},
          "execution_count": 51
        },
        {
          "output_type": "display_data",
          "data": {
            "text/plain": [
              "<Figure size 640x480 with 1 Axes>"
            ],
            "image/png": "[encoded data removed]"
          },
          "metadata": {}
        }
      ]
    },
    {
      "cell_type": "code",
      "source": [
        " #save final model\n",
        " torch.save(net.state_dict(), '/content/drive/MyDrive/single_cell/data/pbmc_3k_model.pth')"
      ],
      "metadata": {
        "id": "zrKQrD9qyvzg"
      },
      "execution_count": null,
      "outputs": []
    },
    {
      "cell_type": "markdown",
      "source": [],
      "metadata": {
        "id": "JA7PKCkz0AyS"
      }
    }
  ]
}